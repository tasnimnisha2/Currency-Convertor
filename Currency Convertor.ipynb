{
 "cells": [
  {
   "cell_type": "code",
   "execution_count": 1,
   "metadata": {},
   "outputs": [
    {
     "name": "stdout",
     "output_type": "stream",
     "text": [
      "Please enter the date (in the format 'yyyy-mm-dd' or 'latest'): 2020-04-12\n",
      "Convert from (currency): GBP\n",
      "Convert to (currency): USD\n",
      "How much GBP do you want to convert: 100\n"
     ]
    }
   ],
   "source": [
    "# Gathering input parameters from the user\n",
    "\n",
    "date = input(\"Please enter the date (in the format 'yyyy-mm-dd' or 'latest'): \")\n",
    "base = input(\"Convert from (currency): \")\n",
    "curr = input(\"Convert to (currency): \")\n",
    "quan = float(input(\"How much {} do you want to convert: \".format(base)))"
   ]
  },
  {
   "cell_type": "code",
   "execution_count": 2,
   "metadata": {},
   "outputs": [],
   "source": [
    "# loading the packages\n",
    "# requests provides us with the capabilities of sending an HTTP request to a server\n",
    "\n",
    "import requests"
   ]
  },
  {
   "cell_type": "code",
   "execution_count": 3,
   "metadata": {},
   "outputs": [],
   "source": [
    "# Define the base URL\n",
    "# Base URL: the part of the URL common to all requests, not containing the parameters\n",
    "\n",
    "base_url = \"https://api.exchangeratesapi.io\""
   ]
  },
  {
   "cell_type": "code",
   "execution_count": 4,
   "metadata": {},
   "outputs": [],
   "source": [
    "# Constructing the URL based on the user parameters and sending a request to the server\n",
    "\n",
    "url = base_url + \"/\" + date + \"?base=\" + base + \"&symbols=\" + curr\n",
    "response = requests.get(url)"
   ]
  },
  {
   "cell_type": "code",
   "execution_count": 5,
   "metadata": {},
   "outputs": [
    {
     "name": "stdout",
     "output_type": "stream",
     "text": [
      "\n",
      "100.0 GBP is equal to 124.10209559 USD, based upon exchange rates on 2020-04-09\n"
     ]
    }
   ],
   "source": [
    "# Displaying the error message, if something went wrong\n",
    "\n",
    "if(response.ok is False):\n",
    "    print(\"\\nError {}:\".format(response.status_code))\n",
    "    print(response.json()['error'])\n",
    "\n",
    "else:\n",
    "    data = response.json()\n",
    "    rate = data['rates'][curr]\n",
    "    \n",
    "    result = quan*rate\n",
    "    \n",
    "    print(\"\\n{0} {1} is equal to {2} {3}, based upon exchange rates on {4}\".format(quan,base,result,curr,data['date']))"
   ]
  }
 ],
 "metadata": {
  "kernelspec": {
   "display_name": "Python 3",
   "language": "python",
   "name": "python3"
  },
  "language_info": {
   "codemirror_mode": {
    "name": "ipython",
    "version": 3
   },
   "file_extension": ".py",
   "mimetype": "text/x-python",
   "name": "python",
   "nbconvert_exporter": "python",
   "pygments_lexer": "ipython3",
   "version": "3.7.4"
  }
 },
 "nbformat": 4,
 "nbformat_minor": 2
}
